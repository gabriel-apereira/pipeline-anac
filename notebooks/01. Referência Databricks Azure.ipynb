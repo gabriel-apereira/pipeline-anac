{
 "cells": [
  {
   "cell_type": "markdown",
   "metadata": {
    "application/vnd.databricks.v1+cell": {
     "cellMetadata": {},
     "inputWidgets": {},
     "nuid": "c8c66b6d-c53f-4205-94b1-28bfe462538c",
     "showTitle": false,
     "tableResultSettingsMap": {},
     "title": ""
    }
   },
   "source": [
    "Referência Databricks Azure"
   ]
  },
  {
   "cell_type": "code",
   "execution_count": 0,
   "metadata": {
    "application/vnd.databricks.v1+cell": {
     "cellMetadata": {
      "byteLimit": 2048000,
      "rowLimit": 10000
     },
     "inputWidgets": {},
     "nuid": "a9a35826-98b1-40e2-92d4-aa0580c75818",
     "showTitle": false,
     "tableResultSettingsMap": {},
     "title": ""
    }
   },
   "outputs": [],
   "source": [
    "\"\"\"o que é lakehouse:\n",
    "https://learn.microsoft.com/pt-br/azure/databricks/lakehouse/\n",
    "    \n",
    "O que é arquitetura medallion do Lakehouse?\n",
    "https://learn.microsoft.com/pt-br/azure/databricks/lakehouse/medallion\n",
    "   \n",
    "Pipelines de processamento de ingestão, ETL e fluxo com o Azure Databricks e o Delta Lake\n",
    "https://learn.microsoft.com/pt-br/azure/architecture/solution-ideas/articles/ingest-etl-stream-with-adb\n",
    "   \n",
    "Grupos de recursos do Azure\n",
    "https://learn.microsoft.com/pt-br/azure/azure-resource-manager/management/manage-resource-groups-portal\n",
    "    \n",
    "Introdução ao Azure Data Lake Storage Gen2\n",
    "https://learn.microsoft.com/pt-br/azure/storage/blobs/data-lake-storage-introduction\n",
    "   \n",
    "Autenticação e autorização no Serviço\n",
    "https://learn.microsoft.com/pt-br/azure/app-service/overview-authentication-authorization\n",
    "   \n",
    "O que é a gestão de identidades e acessos (IAM)?\n",
    "https://learn.microsoft.com/pt-br/azure/active-directory/fundamentals/introduction-identity-access-management\n",
    "    \n",
    "ACLs (Listas de controle de acesso) no Azure Data Lake Storage Gen2\n",
    "https://learn.microsoft.com/pt-br/azure/storage/blobs/data-lake-storage-access-control\n",
    "   \n",
    "Gerenciador de Armazenamento do Microsoft Azure\n",
    "https://azure.microsoft.com/pt-br/products/storage/storage-explorer\n",
    "    \n",
    "Runtimes do Azure Synapse\n",
    "https://learn.microsoft.com/pt-br/azure/synapse-analytics/spark/apache-spark-version-support\n",
    "\n",
    "Runtime do Synapse para ciclo de vida e suporte do Apache Spark\n",
    "https://learn.microsoft.com/pt-br/azure/synapse-analytics/spark/runtime-for-apache-spark-lifecycle-and-supportability\n",
    "   \n",
    "Valor Cluster\n",
    "https://azure.microsoft.com/en-gb/pricing/details/databricks/\n",
    "\"\"\""
   ]
  }
 ],
 "metadata": {
  "application/vnd.databricks.v1+notebook": {
   "computePreferences": null,
   "dashboards": [],
   "environmentMetadata": {
    "base_environment": "",
    "environment_version": "2"
   },
   "inputWidgetPreferences": null,
   "language": "python",
   "notebookMetadata": {
    "pythonIndentUnit": 4
   },
   "notebookName": "01. Referência Databricks Azure",
   "widgets": {}
  },
  "language_info": {
   "name": "python"
  }
 },
 "nbformat": 4,
 "nbformat_minor": 0
}
